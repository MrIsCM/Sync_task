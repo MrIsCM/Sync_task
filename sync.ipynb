{
 "cells": [
  {
   "attachments": {},
   "cell_type": "markdown",
   "metadata": {},
   "source": [
    "Sync 2 folders. Origin to destination. Keep a log file."
   ]
  },
  {
   "cell_type": "code",
   "execution_count": 242,
   "metadata": {},
   "outputs": [],
   "source": [
    "from datetime import datetime\n",
    "from time import time, sleep\n",
    "import shutil\n",
    "import os"
   ]
  },
  {
   "cell_type": "code",
   "execution_count": 243,
   "metadata": {},
   "outputs": [],
   "source": [
    "# Ask folders paths and logfile path\n",
    "origin = str(input('Origin folder path: '))\n",
    "destination = str(input('Destination folder path: '))\n",
    "log_path = str(input('Logfile path: '))\n",
    "log_path = log_path + r'\\log.txt'\n",
    "\n",
    "# Sync interval\n",
    "interval = float(input('Syncronization interval (in minutes): '))\n",
    "interval = interval * 60"
   ]
  },
  {
   "cell_type": "code",
   "execution_count": 244,
   "metadata": {},
   "outputs": [],
   "source": [
    "class FileStructure():\n",
    "\n",
    "\tdef __init__(self, path):\n",
    "\t\tself.path = path\n",
    "\t\tself.files = []\n",
    "\t\tself.folders = []\n",
    "\t\tself._get_files_and_folders()\t#Exec on init\n",
    "\n",
    "\n",
    "\tdef _get_files_and_folders(self):\n",
    "\t\tfor item in os.listdir(self.path):\n",
    "\t\t\tif os.path.isdir(os.path.join(self.path, item)):\n",
    "\t\t\t\tself.folders.append(item)\n",
    "\t\t\telse:\n",
    "\t\t\t\tself.files.append(item)\n",
    "\n",
    "\tdef get_files(self):\n",
    "\t\treturn self.files\n",
    "\t\n",
    "\tdef get_folders(self):\n",
    "\t\treturn self.folders\n",
    "\t\n",
    "\tdef get_path(self):\n",
    "\t\treturn self.path\n",
    "\t\n",
    "\tdef get_full_path(self, item):\n",
    "\t\treturn os.path.join(self.path, item)\n",
    "\t\n",
    "\tdef get_modif_time(self, item):\n",
    "\t\treturn os.path.getmtime(self.get_full_path(item))\n"
   ]
  },
  {
   "cell_type": "code",
   "execution_count": 245,
   "metadata": {},
   "outputs": [],
   "source": [
    "class Sync():\n",
    "\n",
    "\tdef __init__(self, origin, destination, log_path):\n",
    "\t\tself.origin = FileStructure(origin)\t\t\t# Origin folder as FileStructure object\n",
    "\t\tself.destination = FileStructure(destination)\t# FileStructure object\n",
    "\t\tself.log_path = log_path\n",
    "\t\tself._sync()\n",
    "\n",
    "\tdef _sync(self):\n",
    "\n",
    "\t\tdef write_log(action, item_path):\n",
    "\t\t\twith open(self.log_path, 'a') as logfile:\n",
    "\t\t\t\tdate_time = datetime.now().strftime('%d/%m/%Y_%H:%M:%S - ')\n",
    "\t\t\t\tlogfile.write(date_time + action + item_path + '\\n')\n",
    "\n",
    "\t\t# Check all the files\n",
    "\t\tfor file in self.origin.get_files():\n",
    "\t\t\tfile_path = self.destination.get_full_path(file)\n",
    "\t\t\t# If file not in destination folder, copy it\n",
    "\t\t\tif file not in self.destination.get_files():\n",
    "\t\t\t\taction = 'Copying: '\n",
    "\t\t\t\tprint(action + file_path)\n",
    "\t\t\t\twrite_log(action, file_path)\n",
    "\t\t\t\tshutil.copy2(self.origin.get_full_path(file), self.destination.get_path())\n",
    "\t\t\t\n",
    "\t\t\t# File in dest folder, check modification time\n",
    "\t\t\telif self.origin.get_modif_time(file) > self.destination.get_modif_time(file):\n",
    "\t\t\t\taction = 'Updating: '\n",
    "\t\t\t\tprint(action + file_path)\n",
    "\t\t\t\twrite_log(action, file_path)\n",
    "\t\t\t\tshutil.copy2(self.origin.get_full_path(file), self.destination.get_path())\n",
    "\n",
    "\t\t# Check all the folders\n",
    "\t\tfor folder in self.origin.get_folders():\n",
    "\t\t\tfolder_path = self.destination.get_full_path(folder)\n",
    "\n",
    "\t\t\t# If folder not in destination, copy it\n",
    "\t\t\tif folder not in self.destination.get_folders():\n",
    "\t\t\t\taction = 'Copying: '\n",
    "\t\t\t\tprint(action + folder_path)\n",
    "\t\t\t\twrite_log(action, folder_path)\n",
    "\t\t\t\tshutil.copytree(self.origin.get_full_path(folder), self.destination.get_full_path(folder)) #copy2 by default\n",
    "\t\t\t\n",
    "\t\t\t# Folder in dest, call Sync() recursivly on that folder\n",
    "\t\t\telse:\n",
    "\t\t\t\tSync(self.origin.get_full_path(folder), self.destination.get_full_path(folder), self.log_path)\n",
    "\n",
    "\t\t# Check for deleted files\n",
    "\t\tfor file in self.destination.get_files():\n",
    "\t\t\tif file not in self.origin.get_files():\n",
    "\t\t\t\tfile_path = self.destination.get_full_path(file)\n",
    "\t\t\t\taction = 'Deleting: '\n",
    "\t\t\t\tprint(action + file_path)\n",
    "\t\t\t\twrite_log(action, file_path)\n",
    "\t\t\t\tos.remove(file_path)\n",
    "\n",
    "\t\t# Check for deleted folders\n",
    "\t\tfor folder in self.destination.get_folders():\n",
    "\t\t\tif folder not in self.origin.get_folders():\n",
    "\t\t\t\tfolder_path = self.destination.get_full_path(folder)\n",
    "\t\t\t\taction = 'Deleting: '\n",
    "\t\t\t\tprint(action, folder_path)\n",
    "\t\t\t\tshutil.rmtree(folder_path)\n",
    "\t\t\t"
   ]
  },
  {
   "cell_type": "code",
   "execution_count": null,
   "metadata": {},
   "outputs": [],
   "source": [
    "while True:\n",
    "    start_time = time()\n",
    "    Sync(origin, destination, log_path)\n",
    "    sleep(interval - (time() - start_time) % interval)"
   ]
  }
 ],
 "metadata": {
  "kernelspec": {
   "display_name": "Python 3",
   "language": "python",
   "name": "python3"
  },
  "language_info": {
   "codemirror_mode": {
    "name": "ipython",
    "version": 3
   },
   "file_extension": ".py",
   "mimetype": "text/x-python",
   "name": "python",
   "nbconvert_exporter": "python",
   "pygments_lexer": "ipython3",
   "version": "3.11.0"
  },
  "orig_nbformat": 4
 },
 "nbformat": 4,
 "nbformat_minor": 2
}
