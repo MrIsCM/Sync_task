{
 "cells": [
  {
   "attachments": {},
   "cell_type": "markdown",
   "metadata": {},
   "source": [
    "Sync 2 folders. Origin to destination. Keep a log file."
   ]
  },
  {
   "cell_type": "code",
   "execution_count": 2,
   "metadata": {},
   "outputs": [],
   "source": [
    "from pathlib import Path\n",
    "import shutil\n",
    "import os"
   ]
  },
  {
   "cell_type": "code",
   "execution_count": 3,
   "metadata": {},
   "outputs": [],
   "source": [
    "origin = 'C:/Users/Denis/Desktop/SyncTest/Origin'\n",
    "destination = 'C:/Users/Denis/Desktop/SyncTest/Destination'\n",
    "log_path = 'C:/Users/Denis/Desktop/SyncTest/log.txt'"
   ]
  },
  {
   "cell_type": "code",
   "execution_count": 4,
   "metadata": {},
   "outputs": [],
   "source": [
    "class FileSystem():\n",
    "\n",
    "\t# Parent folder initialization\n",
    "\tdef __init__(self, path):\n",
    "\t\tself.path = path\n",
    "\t\tself.files = []\n",
    "\t\tself.folders = []\n",
    "\t\tself._get_files_and_folders()\n",
    "\n",
    "\n",
    "\tdef _get_files_and_folders(self):\n",
    "\t\tfor item in os.listdir(self.path):\n",
    "\t\t\tif os.path.isdir(os.path.join(self.path, item)):\n",
    "\t\t\t\tself.folders.append(item)\n",
    "\t\t\telse:\n",
    "\t\t\t\tself.files.append(item)\n",
    "\n",
    "\tdef get_files(self):\n",
    "\t\treturn self.files\n",
    "\t\n",
    "\tdef get_folders(self):\n",
    "\t\treturn self.folders\n",
    "\t\n",
    "\tdef get_path(self):\n",
    "\t\treturn self.path\n",
    "\t\n",
    "\tdef get_full_path(self, item):\n",
    "\t\treturn os.path.join(self.path, item)\n",
    "\t\n",
    "\tdef get_modif_time(self, item):\n",
    "\t\treturn os.path.getmtime(self.get_full_path(item))\n"
   ]
  },
  {
   "cell_type": "code",
   "execution_count": 7,
   "metadata": {},
   "outputs": [],
   "source": [
    "class Sync():\n",
    "\n",
    "\tdef __init__(self, origin, destination, log_path=None):\n",
    "\t\tself.origin = FileSystem(origin)\n",
    "\t\tself.destination = FileSystem(destination)\n",
    "\t\tself.log_path = log_path\n",
    "\t\tself._sync()\n",
    "\n",
    "\tdef _sync(self):\n",
    "\t\tfor file in self.origin.get_files():\n",
    "\t\t\tif file not in self.destination.get_files():\n",
    "\t\t\t\tprint('Copying: ' + file)\n",
    "\t\t\t\tshutil.copy2(self.origin.get_full_path(file), self.destination.get_path())\n",
    "\t\t\telif self.origin.get_modif_time(file) > self.destination.get_modif_time(file):\n",
    "\t\t\t\tprint('Updating: ' + file +'located in: ' + self.destination.get_path())\n",
    "\t\t\t\tshutil.copy2(self.origin.get_full_path(file), self.destination.get_path())\n",
    "\n",
    "\t\tfor folder in self.origin.get_folders():\n",
    "\t\t\tif folder not in self.destination.get_folders():\n",
    "\t\t\t\tprint('Copying: ' + folder)\n",
    "\t\t\t\tshutil.copytree(self.origin.get_full_path(folder), self.destination.get_full_path(folder))\n",
    "\t\t\telse:\n",
    "\t\t\t\tSync(self.origin.get_full_path(folder), self.destination.get_full_path(folder))\n",
    "\n",
    "\t\tfor file in self.destination.get_files():\n",
    "\t\t\tif file not in self.origin.get_files():\n",
    "\t\t\t\tprint('Deleting: ' + file)\n",
    "\t\t\t\tos.remove(self.destination.get_full_path(file))\n",
    "\n",
    "\t\tfor folder in self.destination.get_folders():\n",
    "\t\t\tif folder not in self.origin.get_folders():\n",
    "\t\t\t\tprint('Deleting: ' + folder)\n",
    "\t\t\t\tshutil.rmtree(self.destination.get_full_path(folder))\n",
    "\t\t\t"
   ]
  },
  {
   "cell_type": "code",
   "execution_count": 10,
   "metadata": {},
   "outputs": [
    {
     "name": "stdout",
     "output_type": "stream",
     "text": [
      "Deleting: subsubsubfile.txt\n"
     ]
    },
    {
     "data": {
      "text/plain": [
       "<__main__.Sync at 0x12c1374e050>"
      ]
     },
     "execution_count": 10,
     "metadata": {},
     "output_type": "execute_result"
    }
   ],
   "source": [
    "Sync(origin, destination)"
   ]
  }
 ],
 "metadata": {
  "kernelspec": {
   "display_name": "Python 3",
   "language": "python",
   "name": "python3"
  },
  "language_info": {
   "codemirror_mode": {
    "name": "ipython",
    "version": 3
   },
   "file_extension": ".py",
   "mimetype": "text/x-python",
   "name": "python",
   "nbconvert_exporter": "python",
   "pygments_lexer": "ipython3",
   "version": "3.11.0"
  },
  "orig_nbformat": 4
 },
 "nbformat": 4,
 "nbformat_minor": 2
}
